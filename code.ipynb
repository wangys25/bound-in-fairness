{
 "cells": [
  {
   "cell_type": "code",
   "execution_count": 2,
   "id": "0a130f4b",
   "metadata": {},
   "outputs": [],
   "source": [
    "import pandas as pd\n",
    "import numpy as np\n",
    "import numpy as np\n",
    "import matplotlib.pylab as plt\n",
    "import math\n",
    "import random"
   ]
  },
  {
   "cell_type": "code",
   "execution_count": 4,
   "id": "f7e30c3d",
   "metadata": {},
   "outputs": [],
   "source": [
    "df=pd.read_csv('louisville.csv')\n",
    "df.insert(df.shape[1],'group attribute',0)\n",
    "df.loc[df['service_name']== 'SMOKE DETECTOR' ,'group attribute']=1\n",
    "df.loc[df['service_name']== 'VAP EXTREIOR' ,'group attribute']=1\n",
    "df.loc[df['service_name']== 'PESTS' ,'group attribute']=1\n",
    "df.loc[df['service_name']== 'MARKING NEW' ,'group attribute']=1\n",
    "df.loc[df['service_name']== 'PARK MAINTAIN' ,'group attribute']=1\n",
    "df.loc[df['service_name']== 'MISCELLANEOUS' ,'group attribute']=1"
   ]
  },
  {
   "cell_type": "code",
   "execution_count": null,
   "id": "e0afa0f2",
   "metadata": {},
   "outputs": [],
   "source": []
  },
  {
   "cell_type": "code",
   "execution_count": 5,
   "id": "d5329b3f",
   "metadata": {},
   "outputs": [],
   "source": [
    "df['address']=df['address'].str.slice(-5,)\n",
    "df['requested_datetime']=df['requested_datetime'].str.slice(0,11)"
   ]
  },
  {
   "cell_type": "code",
   "execution_count": 7,
   "id": "6fad6fb7",
   "metadata": {},
   "outputs": [],
   "source": [
    "df['requested_datetime']= pd.to_datetime(df['requested_datetime'])\n",
    "df5=df.loc[:,['requested_datetime','address','group attribute']]"
   ]
  },
  {
   "cell_type": "code",
   "execution_count": 8,
   "id": "332ce763",
   "metadata": {},
   "outputs": [],
   "source": [
    "group_obj = df5.groupby(['address','group attribute'])"
   ]
  },
  {
   "cell_type": "code",
   "execution_count": 14,
   "id": "ae3d53a3",
   "metadata": {},
   "outputs": [],
   "source": [
    "list1=df5.address.tolist()\n",
    "list2=random.sample(list1,10)"
   ]
  },
  {
   "cell_type": "code",
   "execution_count": 13,
   "id": "7258fdd0",
   "metadata": {},
   "outputs": [],
   "source": [
    "list_1=[]\n"
   ]
  },
  {
   "cell_type": "code",
   "execution_count": null,
   "id": "086d5d03",
   "metadata": {},
   "outputs": [],
   "source": []
  },
  {
   "cell_type": "code",
   "execution_count": 11,
   "id": "54dffdf3",
   "metadata": {},
   "outputs": [
    {
     "data": {
      "text/plain": [
       "20"
      ]
     },
     "execution_count": 11,
     "metadata": {},
     "output_type": "execute_result"
    }
   ],
   "source": [
    "list3,list4,list5=[],[],[]\n",
    "list5=np.random.randint(10,150,20).tolist()\n",
    "len(list5)"
   ]
  },
  {
   "cell_type": "code",
   "execution_count": 16,
   "id": "47752e84",
   "metadata": {},
   "outputs": [],
   "source": [
    "## ground truth data\n",
    "for i in list2:\n",
    "    a1 = group_obj.get_group((i,1))\n",
    "    a2 = group_obj.get_group((i,0))\n",
    "    b1=a1.groupby('requested_datetime').size()\n",
    "    b2=a2.groupby('requested_datetime').size()\n",
    "    \n",
    "    c1 = pd.DataFrame(b1)\n",
    "    c1.reset_index(inplace=True)\n",
    "    c2 = pd.DataFrame(b2)\n",
    "    c2.reset_index(inplace=True)\n",
    "    \n",
    "    d1=c1.rename(columns={0:'gp'})\n",
    "    d2=c2.rename(columns={0:'gp'})\n",
    "    e1=d1['gp'].tolist()\n",
    "    e2=d2['gp'].tolist()\n",
    "    list_1.append(e1)\n",
    "    list_2.append(e2)"
   ]
  },
  {
   "cell_type": "code",
   "execution_count": 59,
   "id": "7b78e418",
   "metadata": {},
   "outputs": [
    {
     "name": "stderr",
     "output_type": "stream",
     "text": [
      "<ipython-input-59-99bf50f581cc>:20: SettingWithCopyWarning: \n",
      "A value is trying to be set on a copy of a slice from a DataFrame\n",
      "\n",
      "See the caveats in the documentation: https://pandas.pydata.org/pandas-docs/stable/user_guide/indexing.html#returning-a-view-versus-a-copy\n",
      "  d['gp'][j]=np.random.randint(2,10)\n",
      "<ipython-input-59-99bf50f581cc>:22: SettingWithCopyWarning: \n",
      "A value is trying to be set on a copy of a slice from a DataFrame\n",
      "\n",
      "See the caveats in the documentation: https://pandas.pydata.org/pandas-docs/stable/user_guide/indexing.html#returning-a-view-versus-a-copy\n",
      "  D['gp'][g]=np.random.randint(10,30)\n",
      "<ipython-input-59-99bf50f581cc>:20: SettingWithCopyWarning: \n",
      "A value is trying to be set on a copy of a slice from a DataFrame\n",
      "\n",
      "See the caveats in the documentation: https://pandas.pydata.org/pandas-docs/stable/user_guide/indexing.html#returning-a-view-versus-a-copy\n",
      "  d['gp'][j]=np.random.randint(2,10)\n",
      "<ipython-input-59-99bf50f581cc>:22: SettingWithCopyWarning: \n",
      "A value is trying to be set on a copy of a slice from a DataFrame\n",
      "\n",
      "See the caveats in the documentation: https://pandas.pydata.org/pandas-docs/stable/user_guide/indexing.html#returning-a-view-versus-a-copy\n",
      "  D['gp'][g]=np.random.randint(10,30)\n",
      "<ipython-input-59-99bf50f581cc>:20: SettingWithCopyWarning: \n",
      "A value is trying to be set on a copy of a slice from a DataFrame\n",
      "\n",
      "See the caveats in the documentation: https://pandas.pydata.org/pandas-docs/stable/user_guide/indexing.html#returning-a-view-versus-a-copy\n",
      "  d['gp'][j]=np.random.randint(2,10)\n",
      "<ipython-input-59-99bf50f581cc>:22: SettingWithCopyWarning: \n",
      "A value is trying to be set on a copy of a slice from a DataFrame\n",
      "\n",
      "See the caveats in the documentation: https://pandas.pydata.org/pandas-docs/stable/user_guide/indexing.html#returning-a-view-versus-a-copy\n",
      "  D['gp'][g]=np.random.randint(10,30)\n",
      "<ipython-input-59-99bf50f581cc>:20: SettingWithCopyWarning: \n",
      "A value is trying to be set on a copy of a slice from a DataFrame\n",
      "\n",
      "See the caveats in the documentation: https://pandas.pydata.org/pandas-docs/stable/user_guide/indexing.html#returning-a-view-versus-a-copy\n",
      "  d['gp'][j]=np.random.randint(2,10)\n",
      "<ipython-input-59-99bf50f581cc>:22: SettingWithCopyWarning: \n",
      "A value is trying to be set on a copy of a slice from a DataFrame\n",
      "\n",
      "See the caveats in the documentation: https://pandas.pydata.org/pandas-docs/stable/user_guide/indexing.html#returning-a-view-versus-a-copy\n",
      "  D['gp'][g]=np.random.randint(10,30)\n",
      "<ipython-input-59-99bf50f581cc>:20: SettingWithCopyWarning: \n",
      "A value is trying to be set on a copy of a slice from a DataFrame\n",
      "\n",
      "See the caveats in the documentation: https://pandas.pydata.org/pandas-docs/stable/user_guide/indexing.html#returning-a-view-versus-a-copy\n",
      "  d['gp'][j]=np.random.randint(2,10)\n",
      "<ipython-input-59-99bf50f581cc>:22: SettingWithCopyWarning: \n",
      "A value is trying to be set on a copy of a slice from a DataFrame\n",
      "\n",
      "See the caveats in the documentation: https://pandas.pydata.org/pandas-docs/stable/user_guide/indexing.html#returning-a-view-versus-a-copy\n",
      "  D['gp'][g]=np.random.randint(10,30)\n",
      "<ipython-input-59-99bf50f581cc>:20: SettingWithCopyWarning: \n",
      "A value is trying to be set on a copy of a slice from a DataFrame\n",
      "\n",
      "See the caveats in the documentation: https://pandas.pydata.org/pandas-docs/stable/user_guide/indexing.html#returning-a-view-versus-a-copy\n",
      "  d['gp'][j]=np.random.randint(2,10)\n",
      "<ipython-input-59-99bf50f581cc>:22: SettingWithCopyWarning: \n",
      "A value is trying to be set on a copy of a slice from a DataFrame\n",
      "\n",
      "See the caveats in the documentation: https://pandas.pydata.org/pandas-docs/stable/user_guide/indexing.html#returning-a-view-versus-a-copy\n",
      "  D['gp'][g]=np.random.randint(10,30)\n",
      "<ipython-input-59-99bf50f581cc>:20: SettingWithCopyWarning: \n",
      "A value is trying to be set on a copy of a slice from a DataFrame\n",
      "\n",
      "See the caveats in the documentation: https://pandas.pydata.org/pandas-docs/stable/user_guide/indexing.html#returning-a-view-versus-a-copy\n",
      "  d['gp'][j]=np.random.randint(2,10)\n",
      "<ipython-input-59-99bf50f581cc>:22: SettingWithCopyWarning: \n",
      "A value is trying to be set on a copy of a slice from a DataFrame\n",
      "\n",
      "See the caveats in the documentation: https://pandas.pydata.org/pandas-docs/stable/user_guide/indexing.html#returning-a-view-versus-a-copy\n",
      "  D['gp'][g]=np.random.randint(10,30)\n",
      "<ipython-input-59-99bf50f581cc>:20: SettingWithCopyWarning: \n",
      "A value is trying to be set on a copy of a slice from a DataFrame\n",
      "\n",
      "See the caveats in the documentation: https://pandas.pydata.org/pandas-docs/stable/user_guide/indexing.html#returning-a-view-versus-a-copy\n",
      "  d['gp'][j]=np.random.randint(2,10)\n",
      "<ipython-input-59-99bf50f581cc>:22: SettingWithCopyWarning: \n",
      "A value is trying to be set on a copy of a slice from a DataFrame\n",
      "\n",
      "See the caveats in the documentation: https://pandas.pydata.org/pandas-docs/stable/user_guide/indexing.html#returning-a-view-versus-a-copy\n",
      "  D['gp'][g]=np.random.randint(10,30)\n",
      "<ipython-input-59-99bf50f581cc>:20: SettingWithCopyWarning: \n",
      "A value is trying to be set on a copy of a slice from a DataFrame\n",
      "\n",
      "See the caveats in the documentation: https://pandas.pydata.org/pandas-docs/stable/user_guide/indexing.html#returning-a-view-versus-a-copy\n",
      "  d['gp'][j]=np.random.randint(2,10)\n",
      "<ipython-input-59-99bf50f581cc>:22: SettingWithCopyWarning: \n",
      "A value is trying to be set on a copy of a slice from a DataFrame\n",
      "\n",
      "See the caveats in the documentation: https://pandas.pydata.org/pandas-docs/stable/user_guide/indexing.html#returning-a-view-versus-a-copy\n",
      "  D['gp'][g]=np.random.randint(10,30)\n",
      "<ipython-input-59-99bf50f581cc>:20: SettingWithCopyWarning: \n",
      "A value is trying to be set on a copy of a slice from a DataFrame\n",
      "\n",
      "See the caveats in the documentation: https://pandas.pydata.org/pandas-docs/stable/user_guide/indexing.html#returning-a-view-versus-a-copy\n",
      "  d['gp'][j]=np.random.randint(2,10)\n",
      "<ipython-input-59-99bf50f581cc>:22: SettingWithCopyWarning: \n",
      "A value is trying to be set on a copy of a slice from a DataFrame\n",
      "\n",
      "See the caveats in the documentation: https://pandas.pydata.org/pandas-docs/stable/user_guide/indexing.html#returning-a-view-versus-a-copy\n",
      "  D['gp'][g]=np.random.randint(10,30)\n"
     ]
    }
   ],
   "source": [
    "### partial ground truth data\n",
    "list_p0=[] \n",
    "list_p1=[]\n",
    "for i in list2:\n",
    "    a = group_obj.get_group((i,1))\n",
    "    A = group_obj.get_group((i,0))\n",
    "    b=a.groupby('requested_datetime').size()\n",
    "    B=A.groupby('requested_datetime').size()\n",
    "    \n",
    "    c = pd.DataFrame(b)\n",
    "    c.reset_index(inplace=True)\n",
    "    C = pd.DataFrame(B)\n",
    "    C.reset_index(inplace=True)\n",
    "    \n",
    "    d=c.rename(columns={0:'gp'})\n",
    "    D=C.rename(columns={0:'gp'})\n",
    "    f=d.sample(frac=0.1).index.tolist()\n",
    "    F=D.sample(frac=0.1).index.tolist()\n",
    "    for j in f:\n",
    "        d['gp'][j]=np.random.randint(2,10)\n",
    "    for g in F:\n",
    "        D['gp'][g]=np.random.randint(10,30)\n",
    "    \n",
    "    list_p0.append(d['gp'].tolist())\n",
    "    list_p1.append(D['gp'].tolist())"
   ]
  },
  {
   "cell_type": "code",
   "execution_count": 18,
   "id": "8b8770ba",
   "metadata": {},
   "outputs": [
    {
     "name": "stderr",
     "output_type": "stream",
     "text": [
      "<ipython-input-18-8174aca5b4ce>:18: SettingWithCopyWarning: \n",
      "A value is trying to be set on a copy of a slice from a DataFrame\n",
      "\n",
      "See the caveats in the documentation: https://pandas.pydata.org/pandas-docs/stable/user_guide/indexing.html#returning-a-view-versus-a-copy\n",
      "  d_1['gp'][j]=np.nan\n",
      "<ipython-input-18-8174aca5b4ce>:19: SettingWithCopyWarning: \n",
      "A value is trying to be set on a copy of a slice from a DataFrame\n",
      "\n",
      "See the caveats in the documentation: https://pandas.pydata.org/pandas-docs/stable/user_guide/indexing.html#returning-a-view-versus-a-copy\n",
      "  D_1['gp'][j]=np.nan\n",
      "<ipython-input-18-8174aca5b4ce>:18: SettingWithCopyWarning: \n",
      "A value is trying to be set on a copy of a slice from a DataFrame\n",
      "\n",
      "See the caveats in the documentation: https://pandas.pydata.org/pandas-docs/stable/user_guide/indexing.html#returning-a-view-versus-a-copy\n",
      "  d_1['gp'][j]=np.nan\n",
      "<ipython-input-18-8174aca5b4ce>:18: SettingWithCopyWarning: \n",
      "A value is trying to be set on a copy of a slice from a DataFrame\n",
      "\n",
      "See the caveats in the documentation: https://pandas.pydata.org/pandas-docs/stable/user_guide/indexing.html#returning-a-view-versus-a-copy\n",
      "  d_1['gp'][j]=np.nan\n",
      "<ipython-input-18-8174aca5b4ce>:18: SettingWithCopyWarning: \n",
      "A value is trying to be set on a copy of a slice from a DataFrame\n",
      "\n",
      "See the caveats in the documentation: https://pandas.pydata.org/pandas-docs/stable/user_guide/indexing.html#returning-a-view-versus-a-copy\n",
      "  d_1['gp'][j]=np.nan\n",
      "<ipython-input-18-8174aca5b4ce>:18: SettingWithCopyWarning: \n",
      "A value is trying to be set on a copy of a slice from a DataFrame\n",
      "\n",
      "See the caveats in the documentation: https://pandas.pydata.org/pandas-docs/stable/user_guide/indexing.html#returning-a-view-versus-a-copy\n",
      "  d_1['gp'][j]=np.nan\n",
      "<ipython-input-18-8174aca5b4ce>:18: SettingWithCopyWarning: \n",
      "A value is trying to be set on a copy of a slice from a DataFrame\n",
      "\n",
      "See the caveats in the documentation: https://pandas.pydata.org/pandas-docs/stable/user_guide/indexing.html#returning-a-view-versus-a-copy\n",
      "  d_1['gp'][j]=np.nan\n",
      "<ipython-input-18-8174aca5b4ce>:19: SettingWithCopyWarning: \n",
      "A value is trying to be set on a copy of a slice from a DataFrame\n",
      "\n",
      "See the caveats in the documentation: https://pandas.pydata.org/pandas-docs/stable/user_guide/indexing.html#returning-a-view-versus-a-copy\n",
      "  D_1['gp'][j]=np.nan\n",
      "<ipython-input-18-8174aca5b4ce>:18: SettingWithCopyWarning: \n",
      "A value is trying to be set on a copy of a slice from a DataFrame\n",
      "\n",
      "See the caveats in the documentation: https://pandas.pydata.org/pandas-docs/stable/user_guide/indexing.html#returning-a-view-versus-a-copy\n",
      "  d_1['gp'][j]=np.nan\n",
      "<ipython-input-18-8174aca5b4ce>:19: SettingWithCopyWarning: \n",
      "A value is trying to be set on a copy of a slice from a DataFrame\n",
      "\n",
      "See the caveats in the documentation: https://pandas.pydata.org/pandas-docs/stable/user_guide/indexing.html#returning-a-view-versus-a-copy\n",
      "  D_1['gp'][j]=np.nan\n",
      "<ipython-input-18-8174aca5b4ce>:18: SettingWithCopyWarning: \n",
      "A value is trying to be set on a copy of a slice from a DataFrame\n",
      "\n",
      "See the caveats in the documentation: https://pandas.pydata.org/pandas-docs/stable/user_guide/indexing.html#returning-a-view-versus-a-copy\n",
      "  d_1['gp'][j]=np.nan\n",
      "<ipython-input-18-8174aca5b4ce>:19: SettingWithCopyWarning: \n",
      "A value is trying to be set on a copy of a slice from a DataFrame\n",
      "\n",
      "See the caveats in the documentation: https://pandas.pydata.org/pandas-docs/stable/user_guide/indexing.html#returning-a-view-versus-a-copy\n",
      "  D_1['gp'][j]=np.nan\n",
      "<ipython-input-18-8174aca5b4ce>:18: SettingWithCopyWarning: \n",
      "A value is trying to be set on a copy of a slice from a DataFrame\n",
      "\n",
      "See the caveats in the documentation: https://pandas.pydata.org/pandas-docs/stable/user_guide/indexing.html#returning-a-view-versus-a-copy\n",
      "  d_1['gp'][j]=np.nan\n",
      "<ipython-input-18-8174aca5b4ce>:18: SettingWithCopyWarning: \n",
      "A value is trying to be set on a copy of a slice from a DataFrame\n",
      "\n",
      "See the caveats in the documentation: https://pandas.pydata.org/pandas-docs/stable/user_guide/indexing.html#returning-a-view-versus-a-copy\n",
      "  d_1['gp'][j]=np.nan\n",
      "<ipython-input-18-8174aca5b4ce>:18: SettingWithCopyWarning: \n",
      "A value is trying to be set on a copy of a slice from a DataFrame\n",
      "\n",
      "See the caveats in the documentation: https://pandas.pydata.org/pandas-docs/stable/user_guide/indexing.html#returning-a-view-versus-a-copy\n",
      "  d_1['gp'][j]=np.nan\n",
      "<ipython-input-18-8174aca5b4ce>:18: SettingWithCopyWarning: \n",
      "A value is trying to be set on a copy of a slice from a DataFrame\n",
      "\n",
      "See the caveats in the documentation: https://pandas.pydata.org/pandas-docs/stable/user_guide/indexing.html#returning-a-view-versus-a-copy\n",
      "  d_1['gp'][j]=np.nan\n",
      "<ipython-input-18-8174aca5b4ce>:18: SettingWithCopyWarning: \n",
      "A value is trying to be set on a copy of a slice from a DataFrame\n",
      "\n",
      "See the caveats in the documentation: https://pandas.pydata.org/pandas-docs/stable/user_guide/indexing.html#returning-a-view-versus-a-copy\n",
      "  d_1['gp'][j]=np.nan\n",
      "<ipython-input-18-8174aca5b4ce>:18: SettingWithCopyWarning: \n",
      "A value is trying to be set on a copy of a slice from a DataFrame\n",
      "\n",
      "See the caveats in the documentation: https://pandas.pydata.org/pandas-docs/stable/user_guide/indexing.html#returning-a-view-versus-a-copy\n",
      "  d_1['gp'][j]=np.nan\n",
      "<ipython-input-18-8174aca5b4ce>:18: SettingWithCopyWarning: \n",
      "A value is trying to be set on a copy of a slice from a DataFrame\n",
      "\n",
      "See the caveats in the documentation: https://pandas.pydata.org/pandas-docs/stable/user_guide/indexing.html#returning-a-view-versus-a-copy\n",
      "  d_1['gp'][j]=np.nan\n",
      "<ipython-input-18-8174aca5b4ce>:18: SettingWithCopyWarning: \n",
      "A value is trying to be set on a copy of a slice from a DataFrame\n",
      "\n",
      "See the caveats in the documentation: https://pandas.pydata.org/pandas-docs/stable/user_guide/indexing.html#returning-a-view-versus-a-copy\n",
      "  d_1['gp'][j]=np.nan\n",
      "<ipython-input-18-8174aca5b4ce>:18: SettingWithCopyWarning: \n",
      "A value is trying to be set on a copy of a slice from a DataFrame\n",
      "\n",
      "See the caveats in the documentation: https://pandas.pydata.org/pandas-docs/stable/user_guide/indexing.html#returning-a-view-versus-a-copy\n",
      "  d_1['gp'][j]=np.nan\n",
      "<ipython-input-18-8174aca5b4ce>:18: SettingWithCopyWarning: \n",
      "A value is trying to be set on a copy of a slice from a DataFrame\n",
      "\n",
      "See the caveats in the documentation: https://pandas.pydata.org/pandas-docs/stable/user_guide/indexing.html#returning-a-view-versus-a-copy\n",
      "  d_1['gp'][j]=np.nan\n",
      "<ipython-input-18-8174aca5b4ce>:18: SettingWithCopyWarning: \n",
      "A value is trying to be set on a copy of a slice from a DataFrame\n",
      "\n",
      "See the caveats in the documentation: https://pandas.pydata.org/pandas-docs/stable/user_guide/indexing.html#returning-a-view-versus-a-copy\n",
      "  d_1['gp'][j]=np.nan\n",
      "<ipython-input-18-8174aca5b4ce>:18: SettingWithCopyWarning: \n",
      "A value is trying to be set on a copy of a slice from a DataFrame\n",
      "\n",
      "See the caveats in the documentation: https://pandas.pydata.org/pandas-docs/stable/user_guide/indexing.html#returning-a-view-versus-a-copy\n",
      "  d_1['gp'][j]=np.nan\n",
      "<ipython-input-18-8174aca5b4ce>:18: SettingWithCopyWarning: \n",
      "A value is trying to be set on a copy of a slice from a DataFrame\n",
      "\n",
      "See the caveats in the documentation: https://pandas.pydata.org/pandas-docs/stable/user_guide/indexing.html#returning-a-view-versus-a-copy\n",
      "  d_1['gp'][j]=np.nan\n",
      "<ipython-input-18-8174aca5b4ce>:18: SettingWithCopyWarning: \n",
      "A value is trying to be set on a copy of a slice from a DataFrame\n",
      "\n",
      "See the caveats in the documentation: https://pandas.pydata.org/pandas-docs/stable/user_guide/indexing.html#returning-a-view-versus-a-copy\n",
      "  d_1['gp'][j]=np.nan\n",
      "<ipython-input-18-8174aca5b4ce>:18: SettingWithCopyWarning: \n",
      "A value is trying to be set on a copy of a slice from a DataFrame\n",
      "\n",
      "See the caveats in the documentation: https://pandas.pydata.org/pandas-docs/stable/user_guide/indexing.html#returning-a-view-versus-a-copy\n",
      "  d_1['gp'][j]=np.nan\n",
      "<ipython-input-18-8174aca5b4ce>:19: SettingWithCopyWarning: \n",
      "A value is trying to be set on a copy of a slice from a DataFrame\n",
      "\n",
      "See the caveats in the documentation: https://pandas.pydata.org/pandas-docs/stable/user_guide/indexing.html#returning-a-view-versus-a-copy\n",
      "  D_1['gp'][j]=np.nan\n",
      "<ipython-input-18-8174aca5b4ce>:18: SettingWithCopyWarning: \n",
      "A value is trying to be set on a copy of a slice from a DataFrame\n",
      "\n",
      "See the caveats in the documentation: https://pandas.pydata.org/pandas-docs/stable/user_guide/indexing.html#returning-a-view-versus-a-copy\n",
      "  d_1['gp'][j]=np.nan\n",
      "<ipython-input-18-8174aca5b4ce>:19: SettingWithCopyWarning: \n",
      "A value is trying to be set on a copy of a slice from a DataFrame\n",
      "\n",
      "See the caveats in the documentation: https://pandas.pydata.org/pandas-docs/stable/user_guide/indexing.html#returning-a-view-versus-a-copy\n",
      "  D_1['gp'][j]=np.nan\n",
      "<ipython-input-18-8174aca5b4ce>:18: SettingWithCopyWarning: \n",
      "A value is trying to be set on a copy of a slice from a DataFrame\n",
      "\n",
      "See the caveats in the documentation: https://pandas.pydata.org/pandas-docs/stable/user_guide/indexing.html#returning-a-view-versus-a-copy\n",
      "  d_1['gp'][j]=np.nan\n",
      "<ipython-input-18-8174aca5b4ce>:18: SettingWithCopyWarning: \n",
      "A value is trying to be set on a copy of a slice from a DataFrame\n",
      "\n",
      "See the caveats in the documentation: https://pandas.pydata.org/pandas-docs/stable/user_guide/indexing.html#returning-a-view-versus-a-copy\n",
      "  d_1['gp'][j]=np.nan\n",
      "<ipython-input-18-8174aca5b4ce>:18: SettingWithCopyWarning: \n",
      "A value is trying to be set on a copy of a slice from a DataFrame\n",
      "\n",
      "See the caveats in the documentation: https://pandas.pydata.org/pandas-docs/stable/user_guide/indexing.html#returning-a-view-versus-a-copy\n",
      "  d_1['gp'][j]=np.nan\n",
      "<ipython-input-18-8174aca5b4ce>:18: SettingWithCopyWarning: \n",
      "A value is trying to be set on a copy of a slice from a DataFrame\n",
      "\n",
      "See the caveats in the documentation: https://pandas.pydata.org/pandas-docs/stable/user_guide/indexing.html#returning-a-view-versus-a-copy\n",
      "  d_1['gp'][j]=np.nan\n",
      "<ipython-input-18-8174aca5b4ce>:18: SettingWithCopyWarning: \n",
      "A value is trying to be set on a copy of a slice from a DataFrame\n",
      "\n",
      "See the caveats in the documentation: https://pandas.pydata.org/pandas-docs/stable/user_guide/indexing.html#returning-a-view-versus-a-copy\n",
      "  d_1['gp'][j]=np.nan\n",
      "<ipython-input-18-8174aca5b4ce>:18: SettingWithCopyWarning: \n",
      "A value is trying to be set on a copy of a slice from a DataFrame\n",
      "\n",
      "See the caveats in the documentation: https://pandas.pydata.org/pandas-docs/stable/user_guide/indexing.html#returning-a-view-versus-a-copy\n",
      "  d_1['gp'][j]=np.nan\n",
      "<ipython-input-18-8174aca5b4ce>:18: SettingWithCopyWarning: \n",
      "A value is trying to be set on a copy of a slice from a DataFrame\n",
      "\n",
      "See the caveats in the documentation: https://pandas.pydata.org/pandas-docs/stable/user_guide/indexing.html#returning-a-view-versus-a-copy\n",
      "  d_1['gp'][j]=np.nan\n",
      "<ipython-input-18-8174aca5b4ce>:18: SettingWithCopyWarning: \n",
      "A value is trying to be set on a copy of a slice from a DataFrame\n",
      "\n",
      "See the caveats in the documentation: https://pandas.pydata.org/pandas-docs/stable/user_guide/indexing.html#returning-a-view-versus-a-copy\n",
      "  d_1['gp'][j]=np.nan\n",
      "<ipython-input-18-8174aca5b4ce>:18: SettingWithCopyWarning: \n",
      "A value is trying to be set on a copy of a slice from a DataFrame\n",
      "\n",
      "See the caveats in the documentation: https://pandas.pydata.org/pandas-docs/stable/user_guide/indexing.html#returning-a-view-versus-a-copy\n",
      "  d_1['gp'][j]=np.nan\n",
      "<ipython-input-18-8174aca5b4ce>:19: SettingWithCopyWarning: \n",
      "A value is trying to be set on a copy of a slice from a DataFrame\n",
      "\n",
      "See the caveats in the documentation: https://pandas.pydata.org/pandas-docs/stable/user_guide/indexing.html#returning-a-view-versus-a-copy\n",
      "  D_1['gp'][j]=np.nan\n",
      "<ipython-input-18-8174aca5b4ce>:18: SettingWithCopyWarning: \n",
      "A value is trying to be set on a copy of a slice from a DataFrame\n",
      "\n",
      "See the caveats in the documentation: https://pandas.pydata.org/pandas-docs/stable/user_guide/indexing.html#returning-a-view-versus-a-copy\n",
      "  d_1['gp'][j]=np.nan\n",
      "<ipython-input-18-8174aca5b4ce>:18: SettingWithCopyWarning: \n",
      "A value is trying to be set on a copy of a slice from a DataFrame\n",
      "\n",
      "See the caveats in the documentation: https://pandas.pydata.org/pandas-docs/stable/user_guide/indexing.html#returning-a-view-versus-a-copy\n",
      "  d_1['gp'][j]=np.nan\n",
      "<ipython-input-18-8174aca5b4ce>:18: SettingWithCopyWarning: \n",
      "A value is trying to be set on a copy of a slice from a DataFrame\n",
      "\n",
      "See the caveats in the documentation: https://pandas.pydata.org/pandas-docs/stable/user_guide/indexing.html#returning-a-view-versus-a-copy\n",
      "  d_1['gp'][j]=np.nan\n",
      "<ipython-input-18-8174aca5b4ce>:18: SettingWithCopyWarning: \n",
      "A value is trying to be set on a copy of a slice from a DataFrame\n",
      "\n",
      "See the caveats in the documentation: https://pandas.pydata.org/pandas-docs/stable/user_guide/indexing.html#returning-a-view-versus-a-copy\n",
      "  d_1['gp'][j]=np.nan\n",
      "<ipython-input-18-8174aca5b4ce>:18: SettingWithCopyWarning: \n",
      "A value is trying to be set on a copy of a slice from a DataFrame\n",
      "\n",
      "See the caveats in the documentation: https://pandas.pydata.org/pandas-docs/stable/user_guide/indexing.html#returning-a-view-versus-a-copy\n",
      "  d_1['gp'][j]=np.nan\n",
      "<ipython-input-18-8174aca5b4ce>:19: SettingWithCopyWarning: \n",
      "A value is trying to be set on a copy of a slice from a DataFrame\n",
      "\n",
      "See the caveats in the documentation: https://pandas.pydata.org/pandas-docs/stable/user_guide/indexing.html#returning-a-view-versus-a-copy\n",
      "  D_1['gp'][j]=np.nan\n",
      "<ipython-input-18-8174aca5b4ce>:18: SettingWithCopyWarning: \n",
      "A value is trying to be set on a copy of a slice from a DataFrame\n",
      "\n",
      "See the caveats in the documentation: https://pandas.pydata.org/pandas-docs/stable/user_guide/indexing.html#returning-a-view-versus-a-copy\n",
      "  d_1['gp'][j]=np.nan\n",
      "<ipython-input-18-8174aca5b4ce>:19: SettingWithCopyWarning: \n",
      "A value is trying to be set on a copy of a slice from a DataFrame\n",
      "\n",
      "See the caveats in the documentation: https://pandas.pydata.org/pandas-docs/stable/user_guide/indexing.html#returning-a-view-versus-a-copy\n",
      "  D_1['gp'][j]=np.nan\n",
      "<ipython-input-18-8174aca5b4ce>:18: SettingWithCopyWarning: \n",
      "A value is trying to be set on a copy of a slice from a DataFrame\n",
      "\n",
      "See the caveats in the documentation: https://pandas.pydata.org/pandas-docs/stable/user_guide/indexing.html#returning-a-view-versus-a-copy\n",
      "  d_1['gp'][j]=np.nan\n",
      "<ipython-input-18-8174aca5b4ce>:19: SettingWithCopyWarning: \n",
      "A value is trying to be set on a copy of a slice from a DataFrame\n",
      "\n",
      "See the caveats in the documentation: https://pandas.pydata.org/pandas-docs/stable/user_guide/indexing.html#returning-a-view-versus-a-copy\n",
      "  D_1['gp'][j]=np.nan\n",
      "<ipython-input-18-8174aca5b4ce>:18: SettingWithCopyWarning: \n",
      "A value is trying to be set on a copy of a slice from a DataFrame\n",
      "\n",
      "See the caveats in the documentation: https://pandas.pydata.org/pandas-docs/stable/user_guide/indexing.html#returning-a-view-versus-a-copy\n",
      "  d_1['gp'][j]=np.nan\n",
      "<ipython-input-18-8174aca5b4ce>:18: SettingWithCopyWarning: \n",
      "A value is trying to be set on a copy of a slice from a DataFrame\n",
      "\n",
      "See the caveats in the documentation: https://pandas.pydata.org/pandas-docs/stable/user_guide/indexing.html#returning-a-view-versus-a-copy\n",
      "  d_1['gp'][j]=np.nan\n",
      "<ipython-input-18-8174aca5b4ce>:18: SettingWithCopyWarning: \n",
      "A value is trying to be set on a copy of a slice from a DataFrame\n",
      "\n",
      "See the caveats in the documentation: https://pandas.pydata.org/pandas-docs/stable/user_guide/indexing.html#returning-a-view-versus-a-copy\n",
      "  d_1['gp'][j]=np.nan\n",
      "<ipython-input-18-8174aca5b4ce>:18: SettingWithCopyWarning: \n",
      "A value is trying to be set on a copy of a slice from a DataFrame\n",
      "\n",
      "See the caveats in the documentation: https://pandas.pydata.org/pandas-docs/stable/user_guide/indexing.html#returning-a-view-versus-a-copy\n",
      "  d_1['gp'][j]=np.nan\n",
      "<ipython-input-18-8174aca5b4ce>:18: SettingWithCopyWarning: \n",
      "A value is trying to be set on a copy of a slice from a DataFrame\n",
      "\n",
      "See the caveats in the documentation: https://pandas.pydata.org/pandas-docs/stable/user_guide/indexing.html#returning-a-view-versus-a-copy\n",
      "  d_1['gp'][j]=np.nan\n",
      "<ipython-input-18-8174aca5b4ce>:18: SettingWithCopyWarning: \n",
      "A value is trying to be set on a copy of a slice from a DataFrame\n",
      "\n",
      "See the caveats in the documentation: https://pandas.pydata.org/pandas-docs/stable/user_guide/indexing.html#returning-a-view-versus-a-copy\n",
      "  d_1['gp'][j]=np.nan\n",
      "<ipython-input-18-8174aca5b4ce>:18: SettingWithCopyWarning: \n",
      "A value is trying to be set on a copy of a slice from a DataFrame\n",
      "\n",
      "See the caveats in the documentation: https://pandas.pydata.org/pandas-docs/stable/user_guide/indexing.html#returning-a-view-versus-a-copy\n",
      "  d_1['gp'][j]=np.nan\n",
      "<ipython-input-18-8174aca5b4ce>:18: SettingWithCopyWarning: \n",
      "A value is trying to be set on a copy of a slice from a DataFrame\n",
      "\n",
      "See the caveats in the documentation: https://pandas.pydata.org/pandas-docs/stable/user_guide/indexing.html#returning-a-view-versus-a-copy\n",
      "  d_1['gp'][j]=np.nan\n"
     ]
    }
   ],
   "source": [
    "### randomly lost value\n",
    "list_r=[]\n",
    "list_R=[]\n",
    "for i in list2:\n",
    "    a_1 = group_obj.get_group((i,1))\n",
    "    A_1 = group_obj.get_group((i,0))\n",
    "    \n",
    "    b_1=a_1.groupby('requested_datetime').size()\n",
    "    B_1=A_1.groupby('requested_datetime').size()\n",
    "    c_1 = pd.DataFrame(b_1)\n",
    "    C_1=pd.DataFrame(B_1)\n",
    "    c_1.reset_index(inplace=True)\n",
    "    C_1.reset_index(inplace=True)\n",
    "    \n",
    "    d_1=c_1.rename(columns={0:'gp'})\n",
    "    D_1=C_1.rename(columns={0:'gp'})\n",
    "    for j in list5:\n",
    "        d_1['gp'][j]=np.nan\n",
    "        D_1['gp'][j]=np.nan\n",
    "    list_r.append(d_1)\n",
    "    list_R.append(D_1)"
   ]
  },
  {
   "cell_type": "code",
   "execution_count": 19,
   "id": "98dc3c5a",
   "metadata": {},
   "outputs": [],
   "source": [
    "### imputation model\n",
    "list_imputation=[]\n",
    "import scipy\n",
    "from scipy.interpolate import interp1d\n",
    "for y in list_r:\n",
    "    y['requested_datetime'] = np.arange(y.shape[0])\n",
    "    df_nona = y.dropna(subset=['gp'])\n",
    "    f = interp1d(df_nona['requested_datetime'], df_nona['gp'],fill_value=\"extrapolate\")\n",
    "    ip=f(y['requested_datetime'])\n",
    "    list_imputation.append(ip)  "
   ]
  },
  {
   "cell_type": "code",
   "execution_count": 22,
   "id": "ddfdaa41",
   "metadata": {},
   "outputs": [],
   "source": [
    "list_imputation1=[]\n",
    "for i in list_R:\n",
    "    i['requested_datetime'] = np.arange(i.shape[0])\n",
    "    df_nona1 = i.dropna(subset=['gp'])\n",
    "    g = interp1d(df_nona1['requested_datetime'], df_nona1['gp'])\n",
    "    ip1=g(i['requested_datetime']).tolist()\n",
    "    list_imputation1.append(ip1) "
   ]
  },
  {
   "cell_type": "code",
   "execution_count": 23,
   "id": "f8f9a1e4",
   "metadata": {},
   "outputs": [
    {
     "data": {
      "text/plain": [
       "2461.5"
      ]
     },
     "execution_count": 23,
     "metadata": {},
     "output_type": "execute_result"
    }
   ],
   "source": [
    "### calculate the estimator\n",
    "q=0\n",
    "for i in list_imputation:\n",
    "    h=sum(i)\n",
    "    q=q+h\n",
    "q"
   ]
  },
  {
   "cell_type": "code",
   "execution_count": 24,
   "id": "1719f0ea",
   "metadata": {},
   "outputs": [
    {
     "data": {
      "text/plain": [
       "58286.0"
      ]
     },
     "execution_count": 24,
     "metadata": {},
     "output_type": "execute_result"
    }
   ],
   "source": [
    "q1=0\n",
    "for i in list_imputation1:\n",
    "    h1=sum(i)\n",
    "    q1=q1+h1\n",
    "q1"
   ]
  },
  {
   "cell_type": "code",
   "execution_count": 25,
   "id": "7af1efc4",
   "metadata": {},
   "outputs": [
    {
     "data": {
      "text/plain": [
       "2455"
      ]
     },
     "execution_count": 25,
     "metadata": {},
     "output_type": "execute_result"
    }
   ],
   "source": [
    "q2=0\n",
    "for i in list_1:\n",
    "    h2=sum(i)\n",
    "    q2=q2+h2\n",
    "q2"
   ]
  },
  {
   "cell_type": "code",
   "execution_count": 26,
   "id": "b6e3c623",
   "metadata": {},
   "outputs": [
    {
     "data": {
      "text/plain": [
       "58567"
      ]
     },
     "execution_count": 26,
     "metadata": {},
     "output_type": "execute_result"
    }
   ],
   "source": [
    "q3=0\n",
    "for i in list_2:\n",
    "    h3=sum(i)\n",
    "    q3=q3+h3\n",
    "q3"
   ]
  },
  {
   "cell_type": "code",
   "execution_count": 60,
   "id": "7ac9b7c6",
   "metadata": {},
   "outputs": [
    {
     "data": {
      "text/plain": [
       "3022"
      ]
     },
     "execution_count": 60,
     "metadata": {},
     "output_type": "execute_result"
    }
   ],
   "source": [
    "q4=0\n",
    "for i in list_p0:\n",
    "    h4=sum(i)\n",
    "    q4=q4+h4\n",
    "q4"
   ]
  },
  {
   "cell_type": "code",
   "execution_count": 61,
   "id": "7ecd9985",
   "metadata": {},
   "outputs": [
    {
     "data": {
      "text/plain": [
       "59068"
      ]
     },
     "execution_count": 61,
     "metadata": {},
     "output_type": "execute_result"
    }
   ],
   "source": [
    "q5=0\n",
    "for i in list_p1:\n",
    "    h5=sum(i)\n",
    "    q5=q5+h5\n",
    "q5"
   ]
  },
  {
   "cell_type": "code",
   "execution_count": 62,
   "id": "99a6d688",
   "metadata": {},
   "outputs": [
    {
     "data": {
      "text/plain": [
       "782.0"
      ]
     },
     "execution_count": 62,
     "metadata": {},
     "output_type": "execute_result"
    }
   ],
   "source": [
    "estimator=q3-q1+q2-q4+q5-q3+q4-q2\n",
    "estimator"
   ]
  },
  {
   "cell_type": "code",
   "execution_count": 40,
   "id": "25f73baf",
   "metadata": {},
   "outputs": [
    {
     "data": {
      "text/plain": [
       "0.5917499228809344"
      ]
     },
     "execution_count": 40,
     "metadata": {},
     "output_type": "execute_result"
    }
   ],
   "source": [
    "## lowerbound\n",
    "listv=[]\n",
    "list_v=[]\n",
    "for i in list2:\n",
    "    a3 = group_obj.get_group((i,1))\n",
    "    A3 = group_obj.get_group((i,0))\n",
    "    \n",
    "    b3=a3.groupby('requested_datetime').size()\n",
    "    B3=A3.groupby('requested_datetime').size()\n",
    "    c3 = pd.DataFrame(b3)\n",
    "    C3=pd.DataFrame(B3)\n",
    "    c3.reset_index(inplace=True)\n",
    "    C3.reset_index(inplace=True)\n",
    "    \n",
    "    d3=c3.rename(columns={0:'gp'})\n",
    "    D3=C3.rename(columns={0:'gp'})\n",
    "    listv=listv+d3.gp.tolist()\n",
    "    list_v=list_v+(D3.gp.tolist())\n",
    "lower_bound=(math.sqrt(np.var(listv))+math.sqrt(np.var(list_v)))/24\n",
    "lower_bound"
   ]
  },
  {
   "cell_type": "code",
   "execution_count": 48,
   "id": "56fd5a21",
   "metadata": {},
   "outputs": [],
   "source": [
    "### upperbound\n",
    "### total difference p=1\n",
    "diff=max(max(listv),max(list_v))-min(min(listv),min(list_v))\n",
    "### total variation difference:\n",
    "vdiff=(max(listv)-min(listv))+(max(list_v)-min(list_v))\n",
    "## expectation\n",
    "expectation=q2+q3-q-q1\n",
    "## sum Aa : here set delta = 0.1, c=expectation\n",
    "v1=math.sqrt(np.var(listv))\n",
    "v2=math.sqrt(np.var(list_v))\n",
    "v=(v1+v2)*math.sqrt(math.log(10)*2)\n",
    "rest=math.log(10)*2*(q2+q3-q-q1)/(3*len(df5))\n",
    "sumAa=rest+v\n",
    "upper_bound=sumAa+expectation+diff*vdiff"
   ]
  },
  {
   "cell_type": "code",
   "execution_count": 49,
   "id": "28e04ec1",
   "metadata": {},
   "outputs": [
    {
     "data": {
      "text/plain": [
       "4984.981131181617"
      ]
     },
     "execution_count": 49,
     "metadata": {},
     "output_type": "execute_result"
    }
   ],
   "source": [
    "upper_bound"
   ]
  },
  {
   "cell_type": "code",
   "execution_count": null,
   "id": "458c26b3",
   "metadata": {},
   "outputs": [],
   "source": []
  },
  {
   "cell_type": "code",
   "execution_count": null,
   "id": "be0f8f89",
   "metadata": {},
   "outputs": [],
   "source": []
  },
  {
   "cell_type": "code",
   "execution_count": null,
   "id": "c0253aca",
   "metadata": {},
   "outputs": [],
   "source": []
  }
 ],
 "metadata": {
  "kernelspec": {
   "display_name": "Python 3",
   "language": "python",
   "name": "python3"
  },
  "language_info": {
   "codemirror_mode": {
    "name": "ipython",
    "version": 3
   },
   "file_extension": ".py",
   "mimetype": "text/x-python",
   "name": "python",
   "nbconvert_exporter": "python",
   "pygments_lexer": "ipython3",
   "version": "3.8.8"
  }
 },
 "nbformat": 4,
 "nbformat_minor": 5
}
